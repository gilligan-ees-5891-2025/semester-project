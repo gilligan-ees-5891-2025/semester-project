{
 "cells": [
  {
   "cell_type": "markdown",
   "metadata": {},
   "source": [
    "# Put the title of your project here\n",
    "\n",
    "EES 4891/5891: Probability and Statistics for Geosciences\n",
    "\n",
    "Put your name here  \n",
    "April 8, 2025\n",
    "\n",
    "## Setup\n",
    "\n",
    "Set up R environment by loading the necessary libraries"
   ],
   "id": "d0b076ac-f5a3-4f8b-9735-f05eeb081524"
  },
  {
   "cell_type": "code",
   "execution_count": null,
   "metadata": {},
   "outputs": [
    {
     "output_type": "stream",
     "name": "stderr",
     "text": [
      "── Attaching core tidyverse packages ──────────────────────── tidyverse 2.0.0 ──\n",
      "✔ dplyr     1.1.4     ✔ readr     2.1.5\n",
      "✔ forcats   1.0.0     ✔ stringr   1.5.1\n",
      "✔ ggplot2   3.5.1     ✔ tibble    3.2.1\n",
      "✔ lubridate 1.9.4     ✔ tidyr     1.3.1\n",
      "✔ purrr     1.0.4     \n",
      "── Conflicts ────────────────────────────────────────── tidyverse_conflicts() ──\n",
      "✖ readr::col_factor() masks scales::col_factor()\n",
      "✖ purrr::discard()    masks scales::discard()\n",
      "✖ dplyr::filter()     masks stats::filter()\n",
      "✖ dplyr::lag()        masks stats::lag()\n",
      "ℹ Use the conflicted package (<http://conflicted.r-lib.org/>) to force all conflicts to become errors"
     ]
    }
   ],
   "source": [
    "library(knitr)\n",
    "library(scales)\n",
    "library(tidyverse)"
   ],
   "id": "e57a2ac9-3751-402c-9e5d-3164b64d219b"
  },
  {
   "cell_type": "markdown",
   "metadata": {},
   "source": [
    "## Introduction\n",
    "\n",
    "Write the introduction: describe what data you’re going to study, why you’re interested in it, where you obtained the data, and any other relevant background.\n",
    "\n",
    "### Date set\n",
    "\n",
    "Describe your data set: what data are you looking at? Where did you get it from (cite publications if relevant), etc. Describe what the data is: what variables are measured, how many observations (rows in a data table) does it contain, etc.\n",
    "\n",
    "You may want to incude code to read the data in.\n",
    "\n",
    "## Descriptive Statistics\n",
    "\n",
    "Put code and text to calculate and present descriptive statistics for your data. This should include histograms and kernel-density plots of the distribution of each variable you will be studying. If you have multivariate data, a pairs plot is helpful for showing the correlations and covariance between different variables.\n",
    "\n",
    "Describe the probability distribution of the data: is it normal or some other distribution? Histograms and Q-Q plots can be helpful here.\n",
    "\n",
    "## Research Questions\n",
    "\n",
    "This is a place to describe the research questions you want to ask about your data.\n",
    "\n",
    "It’s helpful to use tables and/or graphs to illustrate what you’re thinking about and what questions you want to ask.\n",
    "\n",
    "## Hypotheses and Tests\n",
    "\n",
    "State hypotheses about your data and describe how you will use tests to test the hypotheses\n",
    "\n",
    "Put code to implement the analysis and hypothesis tests, and include interpretations of thee\n",
    "\n",
    "### Hypotheses\n",
    "\n",
    "State your hypothesis or hypotheses\n",
    "\n",
    "### Methods\n",
    "\n",
    "Describe the methods you’ll use to analyze your data in preparation for testing hypotheses. Include the analysis code.\n",
    "\n",
    "### Hypothesis Tests\n",
    "\n",
    "Details about the hypothesis tests, including code\n",
    "\n",
    "### Results and Discussion\n",
    "\n",
    "Results from your hypothesis tests and discussion, interpreting your results\n",
    "\n",
    "## Conclusions\n",
    "\n",
    "What did you learn? What results would a reader be interested in? What would be the next steps if you were to continue studying this data after the end of the semester?"
   ],
   "id": "934967f9-528e-4d37-a7ca-df570121f117"
  }
 ],
 "nbformat": 4,
 "nbformat_minor": 5,
 "metadata": {}
}
